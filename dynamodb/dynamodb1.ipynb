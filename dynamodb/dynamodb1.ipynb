{
 "cells": [
  {
   "cell_type": "code",
   "execution_count": 17,
   "metadata": {},
   "outputs": [],
   "source": [
    "import boto3\n",
    "from botocore.exceptions import ClientError\n",
    "import json\n",
    "import decimal"
   ]
  },
  {
   "cell_type": "markdown",
   "metadata": {},
   "source": [
    "                                        Start session"
   ]
  },
  {
   "cell_type": "code",
   "execution_count": 11,
   "metadata": {},
   "outputs": [],
   "source": [
    "dynamodb = boto3.resource('dynamodb',region_name='ap-south-1')\n",
    "\n"
   ]
  },
  {
   "cell_type": "markdown",
   "metadata": {},
   "source": [
    "                                         Create table"
   ]
  },
  {
   "cell_type": "code",
   "execution_count": 5,
   "metadata": {},
   "outputs": [
    {
     "name": "stdout",
     "output_type": "stream",
     "text": [
      "Error creating table: An error occurred (ResourceInUseException) when calling the CreateTable operation: Table already exists: Users\n"
     ]
    }
   ],
   "source": [
    "try:\n",
    "        table = dynamodb.create_table(\n",
    "            TableName='Users',\n",
    "            KeySchema=[\n",
    "                {\n",
    "                    'AttributeName': 'user_id',\n",
    "                    'KeyType': 'HASH'  # Partition key\n",
    "                }\n",
    "            ],\n",
    "            AttributeDefinitions=[\n",
    "                {\n",
    "                    'AttributeName': 'user_id',\n",
    "                    'AttributeType': 'S'\n",
    "                }\n",
    "            ],\n",
    "            ProvisionedThroughput={\n",
    "                'ReadCapacityUnits': 5,\n",
    "                'WriteCapacityUnits': 5\n",
    "            }\n",
    "        )\n",
    "        table.wait_until_exists()\n",
    "        print(f'Table status: {table.table_status}')\n",
    "except ClientError as e:\n",
    "        print(f\"Error creating table: {e}\")"
   ]
  },
  {
   "cell_type": "markdown",
   "metadata": {},
   "source": [
    "                                       Insert the Data into Table"
   ]
  },
  {
   "cell_type": "code",
   "execution_count": null,
   "metadata": {},
   "outputs": [],
   "source": [
    "try:\n",
    "        response = table.put_item(\n",
    "            Item=\n",
    "            {\n",
    "                'user_id': '00',\n",
    "                'name': 'raju kumar',\n",
    "                'age': 25,\n",
    "                'email': 'sanjay@1245.com'\n",
    "            }\n",
    "        )\n",
    "        print(f'PutItem succeeded: {response}')\n",
    "except ClientError as e:\n",
    "        print(f\"Error inserting item: {e}\")"
   ]
  },
  {
   "cell_type": "markdown",
   "metadata": {},
   "source": [
    "                                         Read the table "
   ]
  },
  {
   "cell_type": "code",
   "execution_count": 21,
   "metadata": {},
   "outputs": [
    {
     "name": "stdout",
     "output_type": "stream",
     "text": [
      "GetItem succeeded: {'user_id': '003', 'email': 'sanjay.kumar@gamil.com', 'name': 'raju kumar', 'age': Decimal('89')}\n"
     ]
    }
   ],
   "source": [
    "try:\n",
    "        response = table.get_item(\n",
    "            Key={\n",
    "                'user_id': '003'\n",
    "            }\n",
    "        )\n",
    "        item = response.get('Item')\n",
    "        if item:\n",
    "            print(f'GetItem succeeded: {item}')\n",
    "        else:\n",
    "            print('Item not found')\n",
    "except ClientError as e:\n",
    "        print(f\"Error getting item: {e}\")"
   ]
  },
  {
   "cell_type": "markdown",
   "metadata": {},
   "source": [
    "                                                Update the table"
   ]
  },
  {
   "cell_type": "code",
   "execution_count": 25,
   "metadata": {},
   "outputs": [
    {
     "name": "stdout",
     "output_type": "stream",
     "text": [
      "UpdateItem succeeded: {'Attributes': {'user_id': '001', 'email': 'sanjay.kumar@gamil.com', 'name': 'John Doe', 'age': Decimal('56')}, 'ResponseMetadata': {'RequestId': 'HJBLTL9N26N76A4PUNMOFV9R8NVV4KQNSO5AEMVJF66Q9ASUAAJG', 'HTTPStatusCode': 200, 'HTTPHeaders': {'server': 'Server', 'date': 'Fri, 20 Sep 2024 10:26:09 GMT', 'content-type': 'application/x-amz-json-1.0', 'content-length': '118', 'connection': 'keep-alive', 'x-amzn-requestid': 'HJBLTL9N26N76A4PUNMOFV9R8NVV4KQNSO5AEMVJF66Q9ASUAAJG', 'x-amz-crc32': '3362547469'}, 'RetryAttempts': 0}}\n"
     ]
    }
   ],
   "source": [
    "try:\n",
    "        response = table.update_item(\n",
    "            Key={\n",
    "                'user_id': '001'\n",
    "            },\n",
    "            UpdateExpression='SET age = :val1, email = :val2',\n",
    "            ExpressionAttributeValues={\n",
    "                ':val1': 56,\n",
    "                ':val2': 'sanjay.kumar@gamil.com'\n",
    "            },\n",
    "            ReturnValues=\"ALL_NEW\"\n",
    "        )\n",
    "        print(f'UpdateItem succeeded: {response}')\n",
    "\n",
    "except ClientError as e:\n",
    "        print(f\"Error updating item: {e}\")"
   ]
  },
  {
   "cell_type": "markdown",
   "metadata": {},
   "source": [
    "                                             Delete the Table"
   ]
  },
  {
   "cell_type": "code",
   "execution_count": 22,
   "metadata": {},
   "outputs": [
    {
     "name": "stdout",
     "output_type": "stream",
     "text": [
      "DeleteItem succeeded: {'ResponseMetadata': {'RequestId': 'U41NGJUVV8BFEDPP1MN74T3FI3VV4KQNSO5AEMVJF66Q9ASUAAJG', 'HTTPStatusCode': 200, 'HTTPHeaders': {'server': 'Server', 'date': 'Fri, 20 Sep 2024 09:28:18 GMT', 'content-type': 'application/x-amz-json-1.0', 'content-length': '2', 'connection': 'keep-alive', 'x-amzn-requestid': 'U41NGJUVV8BFEDPP1MN74T3FI3VV4KQNSO5AEMVJF66Q9ASUAAJG', 'x-amz-crc32': '2745614147'}, 'RetryAttempts': 0}}\n"
     ]
    }
   ],
   "source": [
    "try:\n",
    "        response = table.delete_item(\n",
    "            Key={\n",
    "                'user_id': '003'\n",
    "            }\n",
    "        )\n",
    "        print(f'DeleteItem succeeded: {response}')\n",
    "\n",
    "except ClientError as e:\n",
    "        print(f\"Error deleting item: {e}\")"
   ]
  },
  {
   "cell_type": "markdown",
   "metadata": {},
   "source": [
    "                                             Get item Count"
   ]
  },
  {
   "cell_type": "code",
   "execution_count": 4,
   "metadata": {},
   "outputs": [
    {
     "ename": "NameError",
     "evalue": "name 'table' is not defined",
     "output_type": "error",
     "traceback": [
      "\u001b[1;31m---------------------------------------------------------------------------\u001b[0m",
      "\u001b[1;31mNameError\u001b[0m                                 Traceback (most recent call last)",
      "Cell \u001b[1;32mIn[4], line 1\u001b[0m\n\u001b[1;32m----> 1\u001b[0m \u001b[38;5;28mprint\u001b[39m(\u001b[43mtable\u001b[49m\u001b[38;5;241m.\u001b[39mitem_count)\n",
      "\u001b[1;31mNameError\u001b[0m: name 'table' is not defined"
     ]
    }
   ],
   "source": [
    "print(table.item_count)"
   ]
  },
  {
   "cell_type": "markdown",
   "metadata": {},
   "source": [
    "                                        Import Files into DynamoDB"
   ]
  },
  {
   "cell_type": "code",
   "execution_count": 18,
   "metadata": {},
   "outputs": [],
   "source": [
    "dynamodb = boto3.resource('dynamodb')"
   ]
  },
  {
   "cell_type": "code",
   "execution_count": 11,
   "metadata": {},
   "outputs": [
    {
     "name": "stdout",
     "output_type": "stream",
     "text": [
      "Data imported successfully from dynamodb_data.json\n"
     ]
    }
   ],
   "source": [
    "table = dynamodb.Table('Users')\n",
    "\n",
    "# Read the JSON data\n",
    "with open('C:/Users/sanju/bridgelabpython/aws_repo/dynamodb/sample.json') as json_file:\n",
    "    data = json.load(json_file)\n",
    "\n",
    "\n",
    "# Insert each item into DynamoDB table\n",
    "for item in data:\n",
    "    table.put_item(Item=item)\n",
    "\n",
    "print(\"Data imported successfully from dynamodb_data.json\")\n"
   ]
  },
  {
   "cell_type": "markdown",
   "metadata": {},
   "source": [
    "                                            Export the data table to file"
   ]
  },
  {
   "cell_type": "code",
   "execution_count": 19,
   "metadata": {},
   "outputs": [
    {
     "name": "stdout",
     "output_type": "stream",
     "text": [
      "Data exported successfully to dynamodb_data.json\n"
     ]
    }
   ],
   "source": [
    "class DecimalEncoder(json.JSONEncoder):\n",
    "    def default(self, obj):\n",
    "        if isinstance(obj, decimal.Decimal):\n",
    "            # Convert to int if the value is an integer, otherwise float\n",
    "            return int(obj) if obj % 1 == 0 else float(obj)\n",
    "        return super(DecimalEncoder, self).default(obj)\n",
    "\n",
    "# Initialize DynamoDB resource\n",
    "dynamodb = boto3.resource('dynamodb')\n",
    "table = dynamodb.Table('Users')\n",
    "\n",
    "# Scan the table\n",
    "response = table.scan()\n",
    "data = response['Items']\n",
    "\n",
    "# Write data to a JSON file using the custom encoder\n",
    "with open('dynamodb_data.json', 'w') as json_file:\n",
    "    json.dump(data, json_file, indent=4, cls=DecimalEncoder)\n",
    "\n",
    "print(\"Data exported successfully to dynamodb_data.json\")"
   ]
  }
 ],
 "metadata": {
  "kernelspec": {
   "display_name": "Python 3",
   "language": "python",
   "name": "python3"
  },
  "language_info": {
   "codemirror_mode": {
    "name": "ipython",
    "version": 3
   },
   "file_extension": ".py",
   "mimetype": "text/x-python",
   "name": "python",
   "nbconvert_exporter": "python",
   "pygments_lexer": "ipython3",
   "version": "3.12.6"
  }
 },
 "nbformat": 4,
 "nbformat_minor": 2
}
